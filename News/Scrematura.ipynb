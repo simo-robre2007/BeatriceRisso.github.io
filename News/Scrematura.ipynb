{
 "cells": [
  {
   "cell_type": "code",
   "execution_count": 34,
   "id": "beb12215-dd8c-48b4-85ae-50cd54844f9e",
   "metadata": {},
   "outputs": [
    {
     "name": "stdout",
     "output_type": "stream",
     "text": [
      "link\n",
      "headline\n",
      "category\n",
      "short_description\n",
      "authors\n",
      "date\n",
      "                                                  link  \\\n",
      "29   https://www.huffpost.com/entry/french-spiderma...   \n",
      "38   https://www.huffpost.com/entry/african-land-sn...   \n",
      "154  https://www.huffpost.com/entry/fisherman-prehi...   \n",
      "159  https://www.huffpost.com/entry/canberra-kangar...   \n",
      "239  https://www.huffpost.com/entry/wisconsin-polic...   \n",
      "\n",
      "                                              headline    category  \\\n",
      "29   'French Spider-Man' Celebrates 60th Birthday W...  WEIRD NEWS   \n",
      "38   German Customs Officials Follow Trail Of Slime...  WEIRD NEWS   \n",
      "154  A Fisherman Thought He Caught A Rock. He Snagg...  WEIRD NEWS   \n",
      "159  FINISH HIM: Fighting Kangaroo Pulls Wild Move ...  WEIRD NEWS   \n",
      "239  Feathers Fly As Wild Turkey Dodges Cops In Sla...  WEIRD NEWS   \n",
      "\n",
      "                                     short_description       authors  \\\n",
      "29   Alain Robert, known as the \"French Spider-Man,...  Ben Blanchet   \n",
      "38   “Never in the history of the Duesseldorf custo...                 \n",
      "154  The Nebraska man said he initially believed th...  Ben Blanchet   \n",
      "159  Two mad marsupials went at it in a Canberra na...      Ed Mazza   \n",
      "239  One officer used a net in an attempt to nab th...  Ben Blanchet   \n",
      "\n",
      "          date  \n",
      "29  2022-09-18  \n",
      "38  2022-09-16  \n",
      "154 2022-08-27  \n",
      "159 2022-08-26  \n",
      "239 2022-08-11  \n"
     ]
    }
   ],
   "source": [
    "import pandas as pd\n",
    "import requests\n",
    "import json\n",
    "\n",
    "data = pd.read_json(\"./News_Category_Dataset_v3.json\", lines=True)\n",
    "\n",
    "for col in data.columns:\n",
    "    print(col)\n",
    "    \n",
    "# Filtra le notizie con categoria \"WEIRD NEWS\"\n",
    "news = data[data['category'] == 'WEIRD NEWS']\n",
    "\n",
    "# Mostra le prime righe per verifica\n",
    "print(news.head())\n",
    "\n",
    "# Opzionale: Salvare le weird news in un nuovo file JSON\n",
    "news.to_json(\"weird_news.json\", orient=\"records\", lines=True)"
   ]
  },
  {
   "cell_type": "code",
   "execution_count": null,
   "id": "11e0bcb5-1017-47e0-97da-efacefe359eb",
   "metadata": {},
   "outputs": [],
   "source": [
    "def analyze_sentiment(text, api_url=\"http://localhost:1234/api/v0/completions\"):\n",
    "    \"\"\"\n",
    "    Analizza il sentiment di un testo usando un modello LLM locale\n",
    "    \n",
    "    Args:\n",
    "        text (str): Il testo da analizzare\n",
    "        api_url (str): URL dell'API locale\n",
    "    \n",
    "    Returns:\n",
    "        dict: La risposta dell'API contenente il completamento\n",
    "    \"\"\"\n",
    "    \n",
    "    headers = {\n",
    "        \"Content-Type\": \"application/json\"\n",
    "    }\n",
    "    \n",
    "    # Costruisco il prompt per l'analisi del sentiment\n",
    "    prompt = f\"\"\"Analizza il sentiment del seguente testo e classifica come 1 se positivo, -1 se negativo o 0 se neutro.\n",
    "                 Rispondi solo con uno di questi tre numero.\n",
    "                 Testo: '{text}'\n",
    "              \"\"\"\n",
    "    \n",
    "    data = {\n",
    "        \"model\": \"\",\n",
    "        \"prompt\": prompt,\n",
    "        \"temperature\": 0.7,\n",
    "        \"max_tokens\": 10,\n",
    "        \"stream\": False,\n",
    "        \"stop\": \"\\n\"\n",
    "    }\n",
    "    \n",
    "    try:\n",
    "        response = requests.post(api_url, headers=headers, data=json.dumps(data))\n",
    "        response.raise_for_status()  # Solleva un'eccezione per errori HTTP\n",
    "        return response.json()\n",
    "    \n",
    "    except requests.exceptions.RequestException as e:\n",
    "        print(f\"Errore nella chiamata API: {e}\")\n",
    "        return None"
   ]
  },
  {
   "cell_type": "code",
   "execution_count": 43,
   "id": "ccc35624-00c7-41bc-a110-d0773c9baf50",
   "metadata": {},
   "outputs": [
    {
     "name": "stdout",
     "output_type": "stream",
     "text": [
      "Conversione completata! Il file Weird_News.csv è stato salvato.\n"
     ]
    },
    {
     "ename": "NameError",
     "evalue": "name 'analyze_sentiment' is not defined",
     "output_type": "error",
     "traceback": [
      "\u001b[1;31m---------------------------------------------------------------------------\u001b[0m",
      "\u001b[1;31mNameError\u001b[0m                                 Traceback (most recent call last)",
      "Cell \u001b[1;32mIn[43], line 17\u001b[0m\n\u001b[0;32m     14\u001b[0m text_to_analyze \u001b[38;5;241m=\u001b[39m \u001b[38;5;124mf\u001b[39m\u001b[38;5;124m\"\u001b[39m\u001b[38;5;132;01m{\u001b[39;00mtitle\u001b[38;5;132;01m}\u001b[39;00m\u001b[38;5;124m. \u001b[39m\u001b[38;5;132;01m{\u001b[39;00mshort_description\u001b[38;5;132;01m}\u001b[39;00m\u001b[38;5;124m\"\u001b[39m\n\u001b[0;32m     16\u001b[0m \u001b[38;5;66;03m# Analizza il sentiment\u001b[39;00m\n\u001b[1;32m---> 17\u001b[0m api_response \u001b[38;5;241m=\u001b[39m analyze_sentiment(text_to_analyze)\n\u001b[0;32m     19\u001b[0m \u001b[38;5;66;03m# Debug: stampa la risposta completa\u001b[39;00m\n\u001b[0;32m     20\u001b[0m \u001b[38;5;28mprint\u001b[39m(\u001b[38;5;124mf\u001b[39m\u001b[38;5;124m\"\u001b[39m\u001b[38;5;130;01m\\n\u001b[39;00m\u001b[38;5;124mAnalisi per notizia \u001b[39m\u001b[38;5;132;01m{\u001b[39;00mnews_id\u001b[38;5;132;01m}\u001b[39;00m\u001b[38;5;124m:\u001b[39m\u001b[38;5;124m\"\u001b[39m)\n",
      "\u001b[1;31mNameError\u001b[0m: name 'analyze_sentiment' is not defined"
     ]
    }
   ],
   "source": [
    "news.to_csv(\"Weird_News.csv\", index=False)\n",
    "\n",
    "print(\"Conversione completata! Il file Weird_News.csv è stato salvato.\")\n",
    "\n",
    "for index, row in news.head(20).iterrows():\n",
    "    link = row['link']\n",
    "    title = row['headline']\n",
    "    category = row['category']\n",
    "    short_description = row['short_description']\n",
    "    news_id = index\n",
    "    authors = row['authors']\n",
    "    date = row['date']\n",
    "   \n",
    "    text_to_analyze = f\"{title}. {short_description}\"\n",
    "   \n",
    "    # Analizza il sentiment\n",
    "    api_response = analyze_sentiment(text_to_analyze)\n",
    "   \n",
    "    # Debug: stampa la risposta completa\n",
    "    print(f\"\\nAnalisi per notizia {news_id}:\")\n",
    "    print(f\"Testo: '{text_to_analyze}'\")\n",
    "    print(f\"Risposta API: {api_response}\")\n",
    "   \n",
    "    # Estrai il punteggio\n",
    "    sentiment_score = extract_sentiment_score(api_response)\n",
    "   \n",
    "    # Aggiungi il risultato\n",
    "    results.append({\n",
    "        \"ID\": news_id,\n",
    "        \"Date\": date,\n",
    "        \"Sentiment\": sentiment_score if sentiment_score is not None else -1  # Usa -1 per indicare errore\n",
    "    })\n"
   ]
  },
  {
   "cell_type": "code",
   "execution_count": null,
   "id": "e170a4fa-fdf7-4ad6-9722-01abe8757425",
   "metadata": {},
   "outputs": [],
   "source": []
  }
 ],
 "metadata": {
  "kernelspec": {
   "display_name": "Python [conda env:base] *",
   "language": "python",
   "name": "conda-base-py"
  },
  "language_info": {
   "codemirror_mode": {
    "name": "ipython",
    "version": 3
   },
   "file_extension": ".py",
   "mimetype": "text/x-python",
   "name": "python",
   "nbconvert_exporter": "python",
   "pygments_lexer": "ipython3",
   "version": "3.12.7"
  }
 },
 "nbformat": 4,
 "nbformat_minor": 5
}
